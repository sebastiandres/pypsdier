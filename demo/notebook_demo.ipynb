{
 "cells": [
  {
   "cell_type": "markdown",
   "metadata": {
    "id": "xh3wv-hYqU9h"
   },
   "source": [
    "# Pypsdier: A jupyter notebook example\n",
    "This is a toy example for testing the pypsdier library. It features a single concentration, 3 particle radii, and a simple reaction equation. Parameters have been chosen so the numerical simulation is computed fast for instructional purposes."
   ]
  },
  {
   "cell_type": "markdown",
   "metadata": {
    "id": "6z-sSKSyqoex"
   },
   "source": [
    "## Installation\n",
    "Installing the library is easy. You can choose to install the last pypi release, or the last version directly from the github repo."
   ]
  },
  {
   "cell_type": "code",
   "execution_count": 1,
   "metadata": {
    "colab": {
     "base_uri": "https://localhost:8080/"
    },
    "id": "9lurjiflcC9o",
    "outputId": "3bcb3cc1-1f89-4e4d-bf4c-fe52467a062d"
   },
   "outputs": [
    {
     "name": "stdout",
     "output_type": "stream",
     "text": [
      "Collecting git+https://github.com/sebastiandres/pypsdier.git\n",
      "  Cloning https://github.com/sebastiandres/pypsdier.git to /private/var/folders/68/v1ds0ld152q_wk4sbcns3ckw0000gn/T/pip-req-build-btxadxsp\n",
      "  Running command git clone -q https://github.com/sebastiandres/pypsdier.git /private/var/folders/68/v1ds0ld152q_wk4sbcns3ckw0000gn/T/pip-req-build-btxadxsp\n",
      "Building wheels for collected packages: pypsdier\n",
      "  Building wheel for pypsdier (setup.py) ... \u001b[?25ldone\n",
      "\u001b[?25h  Created wheel for pypsdier: filename=pypsdier-1.1.1-cp37-none-any.whl size=14659 sha256=838a29b9bd9db00c706fba6fae6bd41004a891c40742f3cccf0e366a23afc77d\n",
      "  Stored in directory: /private/var/folders/68/v1ds0ld152q_wk4sbcns3ckw0000gn/T/pip-ephem-wheel-cache-_mbl6tfy/wheels/57/71/0f/2f6f43ab73e6371b622a1e181130163a445c394d19b74a80d1\n",
      "Successfully built pypsdier\n",
      "Installing collected packages: pypsdier\n",
      "  Found existing installation: pypsdier 1.1.1\n",
      "\u001b[31mERROR: Cannot uninstall 'pypsdier'. It is a distutils installed project and thus we cannot accurately determine which files belong to it which would lead to only a partial uninstall.\u001b[0m\n"
     ]
    }
   ],
   "source": [
    "#!pip install pypsdier --upgrade\n",
    "!pip install git+https://github.com/sebastiandres/pypsdier.git --upgrade"
   ]
  },
  {
   "cell_type": "markdown",
   "metadata": {},
   "source": [
    "Check that you have the required libraries:"
   ]
  },
  {
   "cell_type": "code",
   "execution_count": 3,
   "metadata": {},
   "outputs": [
    {
     "name": "stdout",
     "output_type": "stream",
     "text": [
      "Requirement already satisfied: numpy in /miniconda3/lib/python3.7/site-packages (1.17.2)\n",
      "Requirement already satisfied: scipy in /miniconda3/lib/python3.7/site-packages (1.2.1)\n",
      "Requirement already satisfied: numpy>=1.8.2 in /miniconda3/lib/python3.7/site-packages (from scipy) (1.17.2)\n",
      "Requirement already satisfied: matplotlib in /miniconda3/lib/python3.7/site-packages (3.0.3)\n",
      "Requirement already satisfied: numpy>=1.10.0 in /miniconda3/lib/python3.7/site-packages (from matplotlib) (1.17.2)\n",
      "Requirement already satisfied: cycler>=0.10 in /miniconda3/lib/python3.7/site-packages (from matplotlib) (0.10.0)\n",
      "Requirement already satisfied: kiwisolver>=1.0.1 in /miniconda3/lib/python3.7/site-packages (from matplotlib) (1.1.0)\n",
      "Requirement already satisfied: pyparsing!=2.0.4,!=2.1.2,!=2.1.6,>=2.0.1 in /miniconda3/lib/python3.7/site-packages (from matplotlib) (2.4.2)\n",
      "Requirement already satisfied: python-dateutil>=2.1 in /miniconda3/lib/python3.7/site-packages (from matplotlib) (2.8.0)\n",
      "Requirement already satisfied: six in /miniconda3/lib/python3.7/site-packages (from cycler>=0.10->matplotlib) (1.12.0)\n",
      "Requirement already satisfied: setuptools in /Users/sebastiandres/.local/lib/python3.7/site-packages (from kiwisolver>=1.0.1->matplotlib) (47.3.1)\n",
      "Requirement already satisfied: dill in /miniconda3/lib/python3.7/site-packages (0.3.2)\n",
      "Requirement already satisfied: xlwt in /miniconda3/lib/python3.7/site-packages (1.3.0)\n"
     ]
    }
   ],
   "source": [
    "!pip install numpy\n",
    "!pip install scipy\n",
    "!pip install matplotlib\n",
    "!pip install dill\n",
    "!pip install xlwt"
   ]
  },
  {
   "cell_type": "markdown",
   "metadata": {
    "id": "pztGFnTBqve_"
   },
   "source": [
    "## Setting up the experiment\n",
    "\n",
    "The first thing is to setup the inputs and plotting options.\n",
    "\n",
    "This requires to define dictionaries with specific keys."
   ]
  },
  {
   "cell_type": "code",
   "execution_count": 4,
   "metadata": {
    "id": "BS4i9s0Eqsd1"
   },
   "outputs": [],
   "source": [
    "def MichaelisMenten(S, E0, k, K):\n",
    "  \"\"\"Definition for Michaelis Menten reaction with inputs E0 [mM], k [1/s] and K [mM]\"\"\"\n",
    "  return (-k*E0*S[0]/(K+S[0]), )\n",
    "\n",
    "inputs = {}\n",
    "inputs[\"SimulationTime\"] = 120. # [s]\n",
    "inputs[\"SavingTimeStep\"] = 1. # [s]\n",
    "inputs[\"CatalystVolume\"] = 0.5 # [mL]\n",
    "inputs[\"BulkVolume\"]  = 100.0  # [mL]\n",
    "inputs[\"Names\"] = ('Substrat',)  # legend for the xls, reports and plots\n",
    "inputs[\"InitialConcentrations\"] = (1.3,)   # [mM]\n",
    "inputs[\"EffectiveDiffusionCoefficients\"] = (5.3E-10,)  # [m2/s]\n",
    "inputs[\"CatalystParticleRadius\"] = [40.0E-6, 60.0E-6, 80.0E-6] # [m]\n",
    "inputs[\"CatalystParticleRadiusFrequency\"] = [0.3, 0.5, 0.2] # []\n",
    "inputs[\"ReactionFunction\"] = MichaelisMenten # function \n",
    "inputs[\"ReactionParameters\"] = (41 , 0.13)   # [1/s], [mM/s], parameters\n",
    "inputs[\"CatalystEnzymeConcentration\"] = 0.35 # [mM]\n",
    "\n",
    "plot_options = {}\n",
    "plot_options[\"title\"] = \"Simulación de Michaelis Menten para la PyconAr\"\n",
    "plot_options[\"label_x\"] = \"Tiempo de reacción [s]\"\n",
    "plot_options[\"label_y\"] = \"Concentración [mM]\"\n",
    "plot_options[\"ode_kwargs\"] = {'label':'ode', 'color':'black', 'marker':'', 'markersize':6, 'linestyle':'dashed', 'linewidth':2}\n",
    "plot_options[\"pde_kwargs\"] = {'label':'pde', 'color':'black', 'marker':'', 'markersize':6, 'linestyle':'solid', 'linewidth':2}\n",
    "plot_options[\"data_kwargs\"] = {'label':'exp', 'color':'red', 'marker':'s', 'markersize':6, 'linestyle':'none', 'linewidth':2}\n",
    "plot_options[\"data_x\"] = [0.0, 30, 60, 90, 120]\n",
    "plot_options[\"data_y\"] = [1.3, 0.65, 0.25, 0.10, 0.0]"
   ]
  },
  {
   "cell_type": "markdown",
   "metadata": {
    "id": "envHgru8toyH"
   },
   "source": [
    "## Creating a simulation\n",
    "Creating a new simulation requires to use a new simulation interface. "
   ]
  },
  {
   "cell_type": "code",
   "execution_count": 5,
   "metadata": {
    "id": "gteyTUK5c7wK"
   },
   "outputs": [],
   "source": [
    "import pypsdier\n",
    "SIM1 = pypsdier.SimulationInterface()\n",
    "SIM1.new(inputs, plot_options)"
   ]
  },
  {
   "cell_type": "markdown",
   "metadata": {
    "id": "oG4CqiHxjfXN"
   },
   "source": [
    "## Numerical simulation \n",
    "To simulate you need to the corresponding method:"
   ]
  },
  {
   "cell_type": "code",
   "execution_count": 6,
   "metadata": {
    "colab": {
     "base_uri": "https://localhost:8080/"
    },
    "id": "jXsF_ssrjkJ8",
    "outputId": "a26b9e30-e9f3-47e3-bdec-e985d62c0229"
   },
   "outputs": [
    {
     "name": "stdout",
     "output_type": "stream",
     "text": [
      "PDE: Solving the complete reaction-diffusion problem, considering a single substance and 3 particle radii.\n",
      "Simulated 120 secs out of 120 secs (Remaining time 0 mins) ) \n",
      "ODE: Solving without diffusional restriction (simplified problem). No porous particles are present. The substance and the enzyme are assumed to be diluted on the bulk phase\n",
      "Simulation completed.\n"
     ]
    }
   ],
   "source": [
    "SIM1.simulate(\"pde\")\n",
    "SIM1.simulate(\"ode\")"
   ]
  },
  {
   "cell_type": "markdown",
   "metadata": {
    "id": "eLalHD8Yjycm"
   },
   "source": [
    "## Status\n",
    "At any point of the code you can use the `status` method to know if the required libraries are installed, what are the inputs, plot options and simulation statuses."
   ]
  },
  {
   "cell_type": "code",
   "execution_count": 7,
   "metadata": {
    "colab": {
     "base_uri": "https://localhost:8080/"
    },
    "id": "56PUH4CIdo0m",
    "outputId": "797ee37a-56b4-431e-bdb4-e97894a7fe13"
   },
   "outputs": [
    {
     "name": "stdout",
     "output_type": "stream",
     "text": [
      "System configuration:\n",
      "    environment: python\n",
      "    python version: 3.7.4\n",
      "    GenericSimulationLibrary version: 1.1.1\n",
      "    numpy version: 1.17.2\n",
      "    scipy version: 1.2.1\n",
      "    xlwt version: 1.3.0\n",
      "    matplotlib version: 3.0.3\n",
      "    dill version: 0.3.2\n",
      "Inputs:\n",
      "    SimulationTime: 120.0\n",
      "    SavingTimeStep: 1.0\n",
      "    CatalystVolume: 0.5\n",
      "    BulkVolume: 100.0\n",
      "    Names: ('Substrat',)\n",
      "    InitialConcentrations: (1.3,)\n",
      "    EffectiveDiffusionCoefficients: (5.3e-10,)\n",
      "    CatalystParticleRadius: [4e-05, 6e-05, 8e-05]\n",
      "    CatalystParticleRadiusFrequency: [0.3, 0.5, 0.2]\n",
      "    ReactionFunction: <function MichaelisMenten at 0x1178d39e0>\n",
      "    ReactionParameters: (41, 0.13)\n",
      "    CatalystEnzymeConcentration: 0.35\n",
      "Plot Options:\n",
      "    title: Simulación de Michaelis Menten para la PyconAr\n",
      "    label_x: Tiempo de reacción [s]\n",
      "    label_y: Concentración [mM]\n",
      "    ode_kwargs: {'label': 'ode', 'color': 'black', 'marker': '', 'markersize': 6, 'linestyle': 'dashed', 'linewidth': 2}\n",
      "    pde_kwargs: {'label': 'pde', 'color': 'black', 'marker': '', 'markersize': 6, 'linestyle': 'solid', 'linewidth': 2}\n",
      "    data_kwargs: {'label': 'exp', 'color': 'red', 'marker': 's', 'markersize': 6, 'linestyle': 'none', 'linewidth': 2}\n",
      "    data_x: [0.0, 30, 60, 90, 120]\n",
      "    data_y: [1.3, 0.65, 0.25, 0.1, 0.0]\n",
      "Simulations:\n",
      "    ODE: yes\n",
      "    PDE: yes\n"
     ]
    }
   ],
   "source": [
    "SIM1.status()"
   ]
  },
  {
   "cell_type": "markdown",
   "metadata": {
    "id": "SoWi-_5xkEF_"
   },
   "source": [
    "## Plotting\n",
    "You can plot the results with the `plot` method. If needed, you can update the plot_options dictionary.\n",
    "Use `plot?` to know available plotting arguments."
   ]
  },
  {
   "cell_type": "code",
   "execution_count": 8,
   "metadata": {
    "id": "4AeWEnX_kba5"
   },
   "outputs": [],
   "source": [
    "SIM1.plot?"
   ]
  },
  {
   "cell_type": "code",
   "execution_count": 15,
   "metadata": {
    "colab": {
     "base_uri": "https://localhost:8080/",
     "height": 533
    },
    "id": "2iJVg4ksdq4c",
    "outputId": "19a6aea3-f91c-4da3-9d8d-6063728c4d11"
   },
   "outputs": [
    {
     "data": {
      "image/png": "[encoded data removed]",
      "text/plain": [
       "<Figure size 864x576 with 1 Axes>"
      ]
     },
     "metadata": {
      "needs_background": "light"
     },
     "output_type": "display_data"
    }
   ],
   "source": [
    "SIM1.plot()"
   ]
  },
  {
   "cell_type": "markdown",
   "metadata": {
    "id": "-hdaF9L82tlP"
   },
   "source": [
    "## Download\n",
    "You can generate and download a compressed simulation file, so you can late load your results"
   ]
  },
  {
   "cell_type": "code",
   "execution_count": 14,
   "metadata": {},
   "outputs": [
    {
     "name": "stdout",
     "output_type": "stream",
     "text": [
      "Saving simulation into file at /Users/sebastiandres/Desktop/Personales/pypsdier/pypsdier/demo/SIM1.rde\n"
     ]
    }
   ],
   "source": [
    "SIM1.save(\"SIM1.rde\")"
   ]
  },
  {
   "cell_type": "markdown",
   "metadata": {},
   "source": [
    "Or you can generate an excel file to explore the results to use a more familiar program."
   ]
  },
  {
   "cell_type": "code",
   "execution_count": 12,
   "metadata": {},
   "outputs": [
    {
     "name": "stdout",
     "output_type": "stream",
     "text": [
      "Saving simulation as xls file at /Users/sebastiandres/Desktop/Personales/pypsdier/pypsdier/demo/SIM1.xls\n"
     ]
    }
   ],
   "source": [
    "SIM1.export_xls(\"SIM1.xls\")"
   ]
  }
 ],
 "metadata": {
  "colab": {
   "collapsed_sections": [],
   "name": "pypsdier_colab_demo",
   "provenance": []
  },
  "kernelspec": {
   "display_name": "Python 3",
   "language": "python",
   "name": "python3"
  },
  "language_info": {
   "codemirror_mode": {
    "name": "ipython",
    "version": 3
   },
   "file_extension": ".py",
   "mimetype": "text/x-python",
   "name": "python",
   "nbconvert_exporter": "python",
   "pygments_lexer": "ipython3",
   "version": "3.7.4"
  }
 },
 "nbformat": 4,
 "nbformat_minor": 1
}
