{
 "cells": [
  {
   "cell_type": "markdown",
   "metadata": {},
   "source": [
    "# GenericSimulationLibrary\n",
    "\n",
    "All the documentation can be found at https://readthedocs.org/projects/pypsdier/"
   ]
  },
  {
   "cell_type": "markdown",
   "metadata": {},
   "source": [
    "## 1. Install Libraries"
   ]
  },
  {
   "cell_type": "markdown",
   "metadata": {},
   "source": [
    "You *might* need to install the GenericSimulationLibrary and other libraries. \n",
    "\n",
    "If the notebook is run by mybinder, it should already have all the required dependencies. Otherwise, just run the following cells:"
   ]
  },
  {
   "cell_type": "code",
   "execution_count": null,
   "metadata": {},
   "outputs": [],
   "source": [
    "#!pip install git+https://github.com/sebastiandres/GenericSimulationLibrary # To install from the very edgiest version in the repository\n",
    "!pip install -i https://pypi.org/simple/ GenericSimulationLibrary  # To install the latest official version"
   ]
  },
  {
   "cell_type": "code",
   "execution_count": null,
   "metadata": {},
   "outputs": [],
   "source": [
    "!pip install numpy"
   ]
  },
  {
   "cell_type": "code",
   "execution_count": null,
   "metadata": {},
   "outputs": [],
   "source": [
    "!pip install matplotlib"
   ]
  },
  {
   "cell_type": "markdown",
   "metadata": {},
   "source": [
    "## 2. The data\n",
    "\n",
    "Define the inputs for the simulation and plot options to be used. This can then later be stored in a simulation seed, if the `save` method is used. "
   ]
  },
  {
   "cell_type": "code",
   "execution_count": null,
   "metadata": {},
   "outputs": [],
   "source": [
    "# The data\n",
    "inputs = {\n",
    "         \"x_min\":0, \n",
    "         \"x_max\":10, \n",
    "         \"N_points\":12,\n",
    "         \"m\":3.0,\n",
    "         \"b\":-2.0\n",
    "}\n",
    "plot_options = {\n",
    "         \"xlabel\":\"x [x_units]\",\n",
    "         \"ylabel\":\"y [y_units]\",\n",
    "         \"title\":\"My title\",\n",
    "         \"data_x\":[ 0.1, 2.1,  3.9,  6.1,  7.9,  9.9],  \n",
    "         \"data_y\":[-2.8, 3.6, 10.7, 13.6, 22.8, 27.1],  # -2 + 3*x + error\n",
    "         \"data_kwargs\": {'label':'exp', 'color':'red', \n",
    "                         'marker':'s', 'markersize':6, \n",
    "                         'linestyle':'none','linewidth':2, \n",
    "         },\n",
    "         \"sim_kwargs\": {'label':'sim', 'color':'black', \n",
    "                         'marker':'o', 'markersize':6, \n",
    "                         'linestyle':'dashed','linewidth':2, \n",
    "         },\n",
    "}"
   ]
  },
  {
   "cell_type": "markdown",
   "metadata": {},
   "source": [
    "## 3. Using the SimulationInterface"
   ]
  },
  {
   "cell_type": "markdown",
   "metadata": {},
   "source": [
    "You can have all your code in a single cell or separated cells. \n",
    "\n",
    "Here we separate the code in two cell to test the save method (first cell) and load method (second cell). \n",
    "\n",
    "Don't forget to store/download the simlation seed, in case you want to avoid simulating again later. "
   ]
  },
  {
   "cell_type": "code",
   "execution_count": null,
   "metadata": {},
   "outputs": [],
   "source": [
    "from GenericSimulationLibrary import SimulationInterface\n",
    "\n",
    "SI = SimulationInterface()\n",
    "SI.new(inputs, plot_options)\n",
    "SI.simulate()\n",
    "SI.save(\"test.sim\")\n",
    "SI.status()\n",
    "del SI"
   ]
  },
  {
   "cell_type": "markdown",
   "metadata": {},
   "source": [
    "In the **second cell**, we create a new SimulationInterface, but using a simulation seed (no reference to the previous data)."
   ]
  },
  {
   "cell_type": "code",
   "execution_count": null,
   "metadata": {},
   "outputs": [],
   "source": [
    "SI_2 = SimulationInterface()\n",
    "SI_2.load(\"test.sim\")\n",
    "SI_2.status() # Should be exactly the same as before\n",
    "SI_2.plot(filename=\"test.png\")"
   ]
  },
  {
   "cell_type": "code",
   "execution_count": null,
   "metadata": {},
   "outputs": [],
   "source": []
  }
 ],
 "metadata": {
  "kernelspec": {
   "display_name": "Python 3",
   "language": "python",
   "name": "python3"
  },
  "language_info": {
   "codemirror_mode": {
    "name": "ipython",
    "version": 3
   },
   "file_extension": ".py",
   "mimetype": "text/x-python",
   "name": "python",
   "nbconvert_exporter": "python",
   "pygments_lexer": "ipython3",
   "version": "3.7.4"
  }
 },
 "nbformat": 4,
 "nbformat_minor": 2
}
